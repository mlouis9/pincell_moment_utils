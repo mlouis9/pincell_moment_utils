{
 "cells": [
  {
   "cell_type": "code",
   "execution_count": 1,
   "metadata": {},
   "outputs": [
    {
     "name": "stderr",
     "output_type": "stream",
     "text": [
      "[mlouis9-G7-7500:1254595] shmem: mmap: an error occurred while determining whether or not /tmp/ompi.mlouis9-G7-7500.1000/jf.0/3901227008/shared_mem_cuda_pool.mlouis9-G7-7500 could be created.\n",
      "[mlouis9-G7-7500:1254595] create_and_attach: unable to create shared memory BTL coordinating structure :: size 134217728 \n"
     ]
    },
    {
     "name": "stdout",
     "output_type": "stream",
     "text": [
      "50\n"
     ]
    },
    {
     "name": "stderr",
     "output_type": "stream",
     "text": [
      "100%|██████████| 100/100 [00:00<00:00, 203.65it/s]\n",
      "100%|██████████| 32/32 [00:00<00:00, 197.28it/s]\n",
      "100%|██████████| 100/100 [00:00<00:00, 199.21it/s]\n",
      "100%|██████████| 32/32 [00:00<00:00, 193.60it/s]\n",
      "100%|██████████| 100/100 [00:00<00:00, 193.73it/s]\n",
      "100%|██████████| 32/32 [00:00<00:00, 196.52it/s]\n",
      "100%|██████████| 100/100 [00:00<00:00, 196.35it/s]\n",
      "100%|██████████| 32/32 [00:00<00:00, 197.85it/s]\n",
      "100%|██████████| 100/100 [00:00<00:00, 198.78it/s]\n",
      "100%|██████████| 32/32 [00:00<00:00, 197.02it/s]\n",
      "100%|██████████| 100/100 [00:00<00:00, 187.32it/s]\n",
      "100%|██████████| 32/32 [00:00<00:00, 197.26it/s]\n",
      "100%|██████████| 100/100 [00:00<00:00, 162.71it/s]\n",
      "100%|██████████| 32/32 [00:00<00:00, 171.32it/s]\n",
      "100%|██████████| 100/100 [00:00<00:00, 158.57it/s]\n",
      "100%|██████████| 32/32 [00:00<00:00, 176.88it/s]\n"
     ]
    },
    {
     "data": {
      "text/plain": [
       "<pincell_moment_utils.datagen.DatasetGenerator at 0x71ad8a13e600>"
      ]
     },
     "execution_count": 1,
     "metadata": {},
     "output_type": "execute_result"
    }
   ],
   "source": [
    "from pincell_moment_utils.datagen import DatasetGenerator\n",
    "from pathlib import Path\n",
    "\n",
    "num_datapoints = 100\n",
    "I = 5\n",
    "J = 5\n",
    "N_p = 5\n",
    "N_w = 4\n",
    "DatasetGenerator(num_datapoints, I, J, N_p, N_w, output_dir=Path('./'), num_histories=1000, burn_in=100)"
   ]
  }
 ],
 "metadata": {
  "kernelspec": {
   "display_name": "openmc-env",
   "language": "python",
   "name": "python3"
  },
  "language_info": {
   "codemirror_mode": {
    "name": "ipython",
    "version": 3
   },
   "file_extension": ".py",
   "mimetype": "text/x-python",
   "name": "python",
   "nbconvert_exporter": "python",
   "pygments_lexer": "ipython3",
   "version": "3.12.8"
  }
 },
 "nbformat": 4,
 "nbformat_minor": 2
}
